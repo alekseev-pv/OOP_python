{
 "cells": [
  {
   "cell_type": "markdown",
   "metadata": {},
   "source": [
    "### Обёртка-декоратор из урока:"
   ]
  },
  {
   "cell_type": "code",
   "execution_count": 152,
   "metadata": {},
   "outputs": [
    {
     "name": "stdout",
     "output_type": "stream",
     "text": [
      "делаем подготовительные действия, инициализируем кеш\n",
      "Полезная работа до начала работы функции\n",
      "Я полезная функция\n",
      "Полезная работа после выполнения функции\n",
      "Функция вызвана 1 раз\n",
      "Полезная работа до начала работы функции\n",
      "Я полезная функция\n",
      "Полезная работа после выполнения функции\n",
      "Функция вызвана 2 раз\n"
     ]
    }
   ],
   "source": [
    "# обращайте внимание, как выполняется код, какие точки проходим\n",
    " \n",
    "def wrapper(func):\n",
    "        # какие-то действия с func\n",
    "        \n",
    "        print(\"делаем подготовительные действия, инициализируем кеш\")\n",
    "        \n",
    "        # счётчик запусков\n",
    "        _cache = {'counter': 0}\n",
    "        \n",
    "        def added_value():\n",
    "                _cache['counter'] = _cache['counter'] + 1\n",
    "                print(\"Полезная работа до начала работы функции\")\n",
    "                func()\n",
    "                print(\"Полезная работа после выполнения функции\")\n",
    "                print(\"Функция вызвана \" + str(_cache['counter']) + \" раз\")\n",
    "\n",
    "        return added_value\n",
    "\n",
    "\n",
    "def some_func():\n",
    "        print(\"Я полезная функция\")\n",
    "\n",
    "do = wrapper(some_func)\n",
    "\n",
    "do()\n",
    "do()\n",
    "\n",
    "# результат: \n",
    "# Полезная работа до начала работы функции\n",
    "# Я полезная функция\n",
    "# Полезная работа после выполнения функции"
   ]
  },
  {
   "cell_type": "code",
   "execution_count": 153,
   "metadata": {},
   "outputs": [
    {
     "name": "stdout",
     "output_type": "stream",
     "text": [
      "Полезная работа до начала работы функции\n",
      "Я полезная функция\n",
      "Полезная работа после выполнения функции\n",
      "Функция вызвана 3 раз\n",
      "делаем подготовительные действия, инициализируем кеш\n"
     ]
    }
   ],
   "source": [
    "do()\n",
    "\n",
    "@wrapper\n",
    "def some_func2():\n",
    "        print(\"Я полезная функция 2\")\n"
   ]
  },
  {
   "cell_type": "code",
   "execution_count": 154,
   "metadata": {},
   "outputs": [
    {
     "name": "stdout",
     "output_type": "stream",
     "text": [
      "Полезная работа до начала работы функции\n",
      "Я полезная функция 2\n",
      "Полезная работа после выполнения функции\n",
      "Функция вызвана 1 раз\n",
      "Полезная работа до начала работы функции\n",
      "Я полезная функция 2\n",
      "Полезная работа после выполнения функции\n",
      "Функция вызвана 2 раз\n"
     ]
    }
   ],
   "source": [
    "some_func2()\n",
    "some_func2()"
   ]
  },
  {
   "cell_type": "code",
   "execution_count": null,
   "metadata": {},
   "outputs": [],
   "source": []
  },
  {
   "cell_type": "markdown",
   "metadata": {},
   "source": [
    "##### *args, **kwargs - это позиционные и именованные аргументы, пример:"
   ]
  },
  {
   "cell_type": "code",
   "execution_count": 159,
   "metadata": {},
   "outputs": [
    {
     "name": "stdout",
     "output_type": "stream",
     "text": [
      "Полезная работа до начала работы функции\n",
      "(1, 2, 3, 4, 5)\n",
      "{'argument': 'test', 'mode': 'deploy'}\n",
      "Полезная работа после выполнения функции\n"
     ]
    }
   ],
   "source": [
    "# функция-обертка\n",
    "def wrapper(func):\n",
    "        # какие-то действия с func\n",
    "        # функция-исполнитель\n",
    "        # получает аргументы из декорируемой функции\n",
    "        # if k in cache.keys()\n",
    "        def added_value(*args, **kwargs):\n",
    "                print(\"Полезная работа до начала работы функции\")\n",
    "                func(*args, **kwargs)\n",
    "                # напечатаем аргументы\n",
    "                print (args) # позиционные аргументы, значения\n",
    "                print (kwargs) # именованные аргументы, ключ-значение\n",
    "                print(\"Полезная работа после выполнения функции\")\n",
    "        return added_value\n",
    "\n",
    "\n",
    "@wrapper  # декоратор\n",
    "def some_func(*args, **kwargs):  # декорируемая функция\n",
    "    pass\n",
    "        # код функции\n",
    "    \n",
    "some_func(1,2,3,4,5, argument=\"test\", mode=\"deploy\")"
   ]
  },
  {
   "cell_type": "code",
   "execution_count": null,
   "metadata": {},
   "outputs": [],
   "source": []
  },
  {
   "cell_type": "markdown",
   "metadata": {},
   "source": [
    "### Забегая впёрд, рекурсия\n",
    "\n",
    "Рекурсия = использование вызова функции внутри неё самой."
   ]
  },
  {
   "cell_type": "code",
   "execution_count": 163,
   "metadata": {},
   "outputs": [
    {
     "name": "stdout",
     "output_type": "stream",
     "text": [
      "вызвана e(x)\n",
      "вызвана f()\n",
      "вызвана g()\n"
     ]
    },
    {
     "data": {
      "text/plain": [
       "7"
      ]
     },
     "execution_count": 163,
     "metadata": {},
     "output_type": "execute_result"
    }
   ],
   "source": [
    "# Пример с разными функциями, которые вызывают друг друга последовательно.\n",
    "# обращайте внимание, как происходит выполнение, какие точки проходит\n",
    "\n",
    "def g(x):\n",
    "    print(\"вызвана g()\")\n",
    "    return x\n",
    "    \n",
    "def f(x):\n",
    "    print(\"вызвана f()\")    \n",
    "    return g(x)\n",
    "\n",
    "def e(x):\n",
    "    print(\"вызвана e(x)\")\n",
    "    return f(x)\n",
    "\n",
    "e(7)"
   ]
  },
  {
   "cell_type": "code",
   "execution_count": 177,
   "metadata": {},
   "outputs": [
    {
     "name": "stdout",
     "output_type": "stream",
     "text": [
      "Вызвана функция fact(x) с x = 4\n",
      "Вызвана функция fact(x) с x = 3\n",
      "Вызвана функция fact(x) с x = 2\n",
      "Вызвана функция fact(x) с x = 1\n"
     ]
    },
    {
     "data": {
      "text/plain": [
       "24"
      ]
     },
     "execution_count": 177,
     "metadata": {},
     "output_type": "execute_result"
    }
   ],
   "source": [
    "# Пример с одной функцией, которая вызывает сама себя\n",
    "# Алгоритм - n факториал, произведение чисел от 1 до n. Пишется n!\n",
    "\"\"\"\n",
    "1! = 1\n",
    "2! = 1*2 = 2\n",
    "3! = 1*2*3 = 6\n",
    "4! = 1*2*3*4 = 24\n",
    "\"\"\"\n",
    "# Понятно, что n! = n * (n-1) * ... * 2 * 1 можно записать как\n",
    "# n * (n-1) * ... * 2 * 1 = n * ((n-1) * ... * 2 * 1) = n * (n-1)!\n",
    "\n",
    "# Пишем рекурсию:\n",
    "\n",
    "def fact(x):\n",
    "    print(\"Вызвана функция fact(x) с x = \"+str(x))\n",
    "    if x <= 1:\n",
    "        return 1\n",
    "    else:\n",
    "        return x * fact(x-1)\n",
    "    \n",
    "fact(4)"
   ]
  },
  {
   "cell_type": "code",
   "execution_count": null,
   "metadata": {},
   "outputs": [],
   "source": []
  },
  {
   "cell_type": "markdown",
   "metadata": {},
   "source": [
    "### Про числа Фибоначчи."
   ]
  },
  {
   "cell_type": "markdown",
   "metadata": {},
   "source": [
    "\n",
    "\n",
    "Первые два числа это 1 1, каждое следующее = сумма двух предыдущих. (1+1=2, 1+2=3, 2+3=5, 3+5=8)\n",
    "\n",
    "1 1 2 3 5 8 13 21 34 45 ....\n",
    "\n",
    "\n",
    "Наша функция будет выдавать число Фибоначчи с номером n.\n",
    "\n",
    "Если n = 1 или 2, возвращаем 1\n",
    "Иначе возвращаем сумму двух предыдущих чисел через fib(n-1) + fib(n-2)\n",
    "\n",
    "При этом получается вот такое дерево вызовов, обратите внимание, что многие числа приходится вычислять по несколько раз:"
   ]
  },
  {
   "cell_type": "markdown",
   "metadata": {},
   "source": [
    "<img src=\"https://hsto.org/getpro/habr/post_images/72a/dd4/66a/72add466aa40d3ab135d53c84ef14e67.png\">"
   ]
  },
  {
   "cell_type": "markdown",
   "metadata": {},
   "source": [
    "Что будем делать?\n",
    "Чтобы избежать лишней работы, будем сохранять уже найденные числа Фибоначчи.\n",
    "\n",
    "Например, когда у нас есть значение fib(3), мы можем повторно не вычислять целое поддерево,\n",
    "\n",
    "тем самым сэкономим количество вызовов функции и время.\n",
    "\n",
    "Сравним функции с кешированием и без по времени работы и по количеству вызовов.\n",
    "\n"
   ]
  },
  {
   "cell_type": "code",
   "execution_count": 205,
   "metadata": {},
   "outputs": [
    {
     "name": "stdout",
     "output_type": "stream",
     "text": [
      "63245986\n",
      "Без кеширования время исполнения: 19.900362014770508 секунд.\n",
      "63245986\n",
      "С кешированием время исполнения: 0.0 секунд.\n"
     ]
    }
   ],
   "source": [
    "# сравниваем время работы с кешированием и без\n",
    "\n",
    "import time\n",
    "\n",
    "from functools import lru_cache\n",
    " \n",
    "\n",
    "# возвращаем n-ое число Фибоначчи. Простая функция без кеширования\n",
    "def fib(n):\n",
    "    if n in (1, 2):\n",
    "        return 1\n",
    "    return fib(n - 1) + fib(n - 2)\n",
    " \n",
    "    \n",
    "# добавим декоратор кеширования из библиотеки.\n",
    "@lru_cache()\n",
    "def fib_cached(n):\n",
    "    if n in (1, 2):\n",
    "        return 1\n",
    "    return fib_cached(n - 1) + fib_cached(n - 2)\n",
    "\n",
    "\n",
    "\n",
    "n_fib = 39 # если долго выполняется, можете уменьшить число\n",
    "\n",
    "start = time.time()\n",
    "print(fib(n_fib))\n",
    "print(\"Без кеширования время исполнения: \" + str(time.time() - start) + \" секунд.\")\n",
    "\n",
    "start = time.time()\n",
    "print(fib_cached(n_fib))\n",
    "print(\"С кешированием время исполнения: \" + str(time.time() - start) + \" секунд.\")\n",
    "\n",
    "\n",
    "\n",
    "\n",
    "\n",
    "\n",
    "\n",
    "\n",
    "\n"
   ]
  },
  {
   "cell_type": "code",
   "execution_count": 212,
   "metadata": {},
   "outputs": [
    {
     "name": "stdout",
     "output_type": "stream",
     "text": [
      "Количество вызовов без кеша:\n",
      "run count :0\n",
      "run count :1\n",
      "run count :2\n",
      "run count :3\n",
      "run count :4\n",
      "run count :5\n",
      "run count :6\n",
      "run count :6\n",
      "run count :6\n",
      "8\n",
      "\n",
      "Количество вызовов c кешем:\n",
      "run count :1\n",
      "run count :2\n",
      "run count :3\n",
      "run count :4\n",
      "run count :5\n",
      "run count :6\n",
      "run count :7\n",
      "run count :8\n",
      "run count :9\n",
      "run count :10\n",
      "run count :11\n",
      "run count :12\n",
      "run count :13\n",
      "run count :14\n",
      "run count :15\n",
      "8\n"
     ]
    }
   ],
   "source": [
    "# напишем свой декоратор подсчёта количества вызовов\n",
    "# и свой декоратор кеширования\n",
    "\n",
    "# сравним количество вызовов функции\n",
    "\n",
    "\n",
    "# напишем подсчёт количества вызовов\n",
    "def nrun(func):\n",
    "        _cache = {'counter': 0} \n",
    "        \n",
    "        def added_value(*args, **kwargs):\n",
    "            _cache['counter'] = _cache['counter'] + 1\n",
    "            print(\"run count :\"+ str(_cache['counter']))\n",
    "            return func(*args, **kwargs)\n",
    "                \n",
    "        return added_value\n",
    "\n",
    "@nrun\n",
    "def fib_notcached(n): # функция без кеширования с подсчётом количества вызовов\n",
    "    if n in (1, 2):\n",
    "        return 1\n",
    "    return fib_notcached(n - 1) + fib_notcached(n - 2)\n",
    "\n",
    "    \n",
    "# напишем свой декоратор кеширования с отображением числа вызовов\n",
    "def mycached(func):\n",
    "        d = {}\n",
    "        _cache = {'counter': 0} \n",
    "        \n",
    "        def added_value(*args, **kwargs):\n",
    "                print(\"run count :\"+ str(_cache['counter']))\n",
    "                if kwargs['n'] in d.keys():\n",
    "                    return d[kwargs['n']]\n",
    "                else:\n",
    "                    _cache['counter'] = _cache['counter'] + 1\n",
    "                    d[kwargs['n']] = func(kwargs['n'])\n",
    "                    return d[kwargs['n']]\n",
    "                \n",
    "        return added_value\n",
    "\n",
    "    \n",
    "@mycached\n",
    "def fib_mycached(n=1): # функция с кешированием и подсчётом числа вызовов\n",
    "    if n in (1, 2):\n",
    "        return 1\n",
    "    return fib_mycached(n = (n - 1)) + fib_mycached(n=(n - 2))\n",
    "\n",
    "n_fib = 6\n",
    "\n",
    "print(\"Количество вызовов без кеша:\")\n",
    "print(fib_mycached(n=n_fib))\n",
    "print()\n",
    "print(\"Количество вызовов c кешем:\")\n",
    "print(fib_notcached(n=n_fib))\n"
   ]
  },
  {
   "cell_type": "code",
   "execution_count": null,
   "metadata": {},
   "outputs": [],
   "source": []
  },
  {
   "cell_type": "code",
   "execution_count": null,
   "metadata": {},
   "outputs": [],
   "source": []
  },
  {
   "cell_type": "code",
   "execution_count": null,
   "metadata": {},
   "outputs": [],
   "source": []
  },
  {
   "cell_type": "code",
   "execution_count": null,
   "metadata": {},
   "outputs": [],
   "source": []
  },
  {
   "cell_type": "code",
   "execution_count": null,
   "metadata": {},
   "outputs": [],
   "source": []
  },
  {
   "cell_type": "code",
   "execution_count": null,
   "metadata": {},
   "outputs": [],
   "source": []
  },
  {
   "cell_type": "code",
   "execution_count": null,
   "metadata": {},
   "outputs": [],
   "source": []
  },
  {
   "cell_type": "code",
   "execution_count": null,
   "metadata": {},
   "outputs": [],
   "source": []
  },
  {
   "cell_type": "code",
   "execution_count": null,
   "metadata": {},
   "outputs": [],
   "source": []
  }
 ],
 "metadata": {
  "kernelspec": {
   "display_name": "Python 3",
   "language": "python",
   "name": "python3"
  },
  "language_info": {
   "codemirror_mode": {
    "name": "ipython",
    "version": 3
   },
   "file_extension": ".py",
   "mimetype": "text/x-python",
   "name": "python",
   "nbconvert_exporter": "python",
   "pygments_lexer": "ipython3",
   "version": "3.7.3"
  }
 },
 "nbformat": 4,
 "nbformat_minor": 2
}
