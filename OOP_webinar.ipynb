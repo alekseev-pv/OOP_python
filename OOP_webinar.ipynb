{
 "cells": [
  {
   "cell_type": "markdown",
   "metadata": {},
   "source": [
    "# План.\n",
    "\n",
    "#### 1. Введение. \n",
    "\n",
    "\n",
    "\n",
    "#### 2. Методы класса \\ методы объекта \\ статические методы.\n",
    "\n",
    "-разные сущности, разные методы\n",
    "\n",
    "-открывать дверь, бутылку, файл, консервную банку.\n",
    "\n",
    "-пример\n",
    "\n",
    "\n",
    "#### 3. Про Юпитер.\n",
    "\n",
    "-private,public\n",
    "\n",
    "-property\n",
    "\n",
    "-пример\n",
    "\n",
    "#### 4. Вопросы\n",
    "\n",
    "-что с этим делать?\n",
    "\n",
    "-работаем\n",
    "\n",
    "\n",
    "#### Зачем ООП:\n",
    "\n",
    "-переиспользование\n",
    "\n",
    "-структурирование\n",
    "\n",
    "-наследование, вложенность\n",
    "\n",
    "-интуитивно понятный код\n",
    "\n",
    "-сокращение кода\n",
    "\n",
    "-упрощение жизни!\n",
    "\n",
    "-разделить крупную задачу\n",
    "\n",
    "-вовлечение разработчиков, разделение прав"
   ]
  },
  {
   "cell_type": "code",
   "execution_count": 30,
   "metadata": {},
   "outputs": [
    {
     "name": "stdout",
     "output_type": "stream",
     "text": [
      "Для человека False\n",
      "Для собаки True\n",
      "\n",
      "метод класса - date_birthday()\n",
      "метод инит - Петя - 30\n",
      "\n",
      "метод класса - person_name_surname()\n",
      "метод инит - Иван Алексеев - 35\n",
      "\n",
      "Перед нами Петя, и ему 30 лет\n",
      "Перед нами Иван Алексеев, и ему 35 лет\n"
     ]
    }
   ],
   "source": [
    "from datetime import date\n",
    "\n",
    "class Person():\n",
    "    def __init__(self, name, age=18):\n",
    "        print(f\"метод инит - {name} - {age}\")\n",
    "        self.name = name\n",
    "        self.age = age\n",
    "    \n",
    "    def show_person(self):\n",
    "        print(f\"Перед нами {self.name}, и ему {self.age} лет\")\n",
    "        \n",
    "    @classmethod\n",
    "    def date_birthday(cls, name, year):\n",
    "        print(\"метод класса - date_birthday()\")\n",
    "        return cls(name,date.today().year - year)\n",
    "    \n",
    "    @classmethod\n",
    "    def person_name_surname(cls, name, surname, age):\n",
    "        print(\"метод класса - person_name_surname()\")\n",
    "        return cls(f\"{name} {surname}\",age)\n",
    "\n",
    "    \n",
    "    @staticmethod\n",
    "    def is_adult(age):\n",
    "        return age >= 18\n",
    "\n",
    "\n",
    "    \n",
    "class Dog:\n",
    "    @staticmethod\n",
    "    def is_adult(age):\n",
    "        return age >= 15    \n",
    "    \n",
    "#P = Person(\"Вася\")\n",
    "\n",
    "\n",
    "myage = 15\n",
    "\n",
    "print(\"Для человека\", Person.is_adult(myage))\n",
    "print(\"Для собаки\", Dog.is_adult(myage))\n",
    "\n",
    "\n",
    "\n",
    "\n",
    "print()\n",
    "person2 = Person.date_birthday(\"Петя\", 1990)\n",
    "\n",
    "print()\n",
    "\n",
    "person3 = Person.person_name_surname(\"Иван\", \"Алексеев\", 35)\n",
    "\n",
    "print()\n",
    "\n",
    "\n",
    "person2.show_person()\n",
    "person3.show_person()\n"
   ]
  },
  {
   "cell_type": "code",
   "execution_count": null,
   "metadata": {},
   "outputs": [],
   "source": []
  },
  {
   "cell_type": "code",
   "execution_count": 47,
   "metadata": {},
   "outputs": [
    {
     "name": "stdout",
     "output_type": "stream",
     "text": [
      "Планета Юпитер имеет площадь поверхности 61418738570.72667 кв.км.\n",
      "Средняя температура поверхности планеты: -162.4° по Фаренгейту.\n",
      "\n",
      "мы попали в get_surface()\n",
      "61418738570.72667\n",
      "\n",
      "мы попали в set_surface()\n"
     ]
    }
   ],
   "source": [
    "# импортируйте библиотеку math\n",
    "\n",
    "import math\n",
    "\n",
    "class Planet:\n",
    "    def __init__(self, name, radius, temp_celsius):\n",
    "        self.name = name\n",
    "\n",
    "        self.__surface_area =  4 * math.pi * radius**2 # здесь вычислите площадь поверхности шара\n",
    "        self.average_temp_celcius = temp_celsius\n",
    "        self.average_temp_fahrenheit =  temp_celsius * (9/5) + 32# здесь переведите температуру в градусы Фаренгейта\n",
    "\n",
    "        \n",
    "    def f1(self, area):\n",
    "        print(\"мы попали в set_surface()\")\n",
    "        if area > 0:\n",
    "            self.__surface_area = area\n",
    "        else:\n",
    "            print(\"что-то не то с вашей площадью!\")\n",
    "\n",
    "    def f2(self):\n",
    "        print(\"мы попали в get_surface()\")\n",
    "        return self.__surface_area\n",
    "    \n",
    "    surface = property(f2, f1)\n",
    "    \n",
    "    \n",
    "    def show_info(self):\n",
    "        print(f\"Планета {self.name} имеет площадь поверхности {self.__surface_area} кв.км.\")\n",
    "        print(f\"Средняя температура поверхности планеты: {self.average_temp_fahrenheit}° по Фаренгейту.\")\n",
    "\n",
    "jupiter = Planet('Юпитер', 69911, -108)\n",
    "# вызовите метод show_info для Юпитера\n",
    "\n",
    "jupiter.show_info()\n",
    "\n",
    "print()\n",
    "\n",
    "print(jupiter.surface)\n",
    "\n",
    "print()\n",
    "\n",
    "jupiter.surface = 777\n",
    "\n"
   ]
  },
  {
   "cell_type": "code",
   "execution_count": null,
   "metadata": {},
   "outputs": [],
   "source": [
    "# взять какую-то задачу. которую уже решали или она просто нравится, и в неё:\n",
    "\n",
    "1. добавить статический метод \\ метод класса\n",
    "\n",
    "Например, для калькулятора: статический метод, который проверяет,\n",
    "    достаточно ли числа калорий n для мужчины \\ женщины в день?\n",
    "    \n",
    "    мужчина, 1000ккал => false\n",
    "    женщина, 2000ккал => true\n",
    "    \n",
    "\n",
    "2. добавить private параметры, getter \\ setter\n",
    "\n",
    "\n"
   ]
  },
  {
   "cell_type": "code",
   "execution_count": null,
   "metadata": {},
   "outputs": [],
   "source": []
  },
  {
   "cell_type": "code",
   "execution_count": null,
   "metadata": {},
   "outputs": [],
   "source": []
  },
  {
   "cell_type": "code",
   "execution_count": null,
   "metadata": {},
   "outputs": [],
   "source": []
  },
  {
   "cell_type": "code",
   "execution_count": null,
   "metadata": {},
   "outputs": [],
   "source": []
  },
  {
   "cell_type": "code",
   "execution_count": null,
   "metadata": {},
   "outputs": [],
   "source": []
  },
  {
   "cell_type": "code",
   "execution_count": null,
   "metadata": {},
   "outputs": [],
   "source": []
  },
  {
   "cell_type": "code",
   "execution_count": null,
   "metadata": {},
   "outputs": [],
   "source": []
  },
  {
   "cell_type": "code",
   "execution_count": null,
   "metadata": {},
   "outputs": [],
   "source": []
  },
  {
   "cell_type": "code",
   "execution_count": null,
   "metadata": {},
   "outputs": [],
   "source": []
  },
  {
   "cell_type": "code",
   "execution_count": null,
   "metadata": {},
   "outputs": [],
   "source": []
  },
  {
   "cell_type": "code",
   "execution_count": null,
   "metadata": {},
   "outputs": [],
   "source": []
  },
  {
   "cell_type": "code",
   "execution_count": null,
   "metadata": {},
   "outputs": [],
   "source": []
  },
  {
   "cell_type": "code",
   "execution_count": null,
   "metadata": {},
   "outputs": [],
   "source": []
  },
  {
   "cell_type": "code",
   "execution_count": null,
   "metadata": {},
   "outputs": [],
   "source": []
  }
 ],
 "metadata": {
  "kernelspec": {
   "display_name": "Python 3",
   "language": "python",
   "name": "python3"
  },
  "language_info": {
   "codemirror_mode": {
    "name": "ipython",
    "version": 3
   },
   "file_extension": ".py",
   "mimetype": "text/x-python",
   "name": "python",
   "nbconvert_exporter": "python",
   "pygments_lexer": "ipython3",
   "version": "3.7.3"
  }
 },
 "nbformat": 4,
 "nbformat_minor": 2
}
